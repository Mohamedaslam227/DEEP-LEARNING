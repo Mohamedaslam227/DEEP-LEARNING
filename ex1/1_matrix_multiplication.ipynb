{
 "cells": [
  {
   "cell_type": "code",
   "execution_count": 1,
   "metadata": {},
   "outputs": [],
   "source": [
    "import torch\n",
    "\n",
    "a=torch.tensor([[12, 56, 37],[19, 93, 47],[73, 93, 17]], dtype=int)\n",
    "b=torch.tensor([[18, 86, 42],[1, 78, 5],[8, 17, 12]], dtype=int)\n",
    "\n",
    "c=torch.zeros(a.shape[0],b.shape[1],dtype=int)"
   ]
  },
  {
   "cell_type": "code",
   "execution_count": 2,
   "metadata": {},
   "outputs": [
    {
     "name": "stdout",
     "output_type": "stream",
     "text": [
      "tensor([[  568,  6029,  1228],\n",
      "        [  811,  9687,  1827],\n",
      "        [ 1543, 13821,  3735]])\n"
     ]
    }
   ],
   "source": [
    "for i in range(a.shape[0]):\n",
    "    for j in range(b.shape[1]):\n",
    "        for k in range(b.shape[0]):\n",
    "            c[i][j]=c[i][j]+a[i][k]*b[k][j]\n",
    "\n",
    "print(c)"
   ]
  }
 ],
 "metadata": {
  "kernelspec": {
   "display_name": "Python 3",
   "language": "python",
   "name": "python3"
  },
  "language_info": {
   "codemirror_mode": {
    "name": "ipython",
    "version": 3
   },
   "file_extension": ".py",
   "mimetype": "text/x-python",
   "name": "python",
   "nbconvert_exporter": "python",
   "pygments_lexer": "ipython3",
   "version": "3.10.0"
  },
  "orig_nbformat": 4,
  "vscode": {
   "interpreter": {
    "hash": "26de051ba29f2982a8de78e945f0abaf191376122a1563185a90213a26c5da77"
   }
  }
 },
 "nbformat": 4,
 "nbformat_minor": 2
}
