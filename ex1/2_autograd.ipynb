{
 "cells": [
  {
   "cell_type": "code",
   "execution_count": 3,
   "metadata": {},
   "outputs": [
    {
     "name": "stdout",
     "output_type": "stream",
     "text": [
      "Input x: tensor([2., 3.], requires_grad=True)\n",
      "Function output y: tensor(9.3970, grad_fn=<AddBackward0>)\n",
      "Gradient of x: tensor([6.9729, 0.3333])\n"
     ]
    }
   ],
   "source": [
    "import torch\n",
    "\n",
    "x = torch.tensor([2.0, 3.0], requires_grad=True)\n",
    "y = torch.sin(x[0]) + torch.log(x[1]) + torch.exp(x[0])\n",
    "\n",
    "y.backward()\n",
    "\n",
    "gradient = x.grad\n",
    "\n",
    "print(\"Input x:\", x)\n",
    "print(\"Function output y:\", y)\n",
    "print(\"Gradient of x:\", gradient)\n"
   ]
  }
 ],
 "metadata": {
  "kernelspec": {
   "display_name": "Python 3",
   "language": "python",
   "name": "python3"
  },
  "language_info": {
   "codemirror_mode": {
    "name": "ipython",
    "version": 3
   },
   "file_extension": ".py",
   "mimetype": "text/x-python",
   "name": "python",
   "nbconvert_exporter": "python",
   "pygments_lexer": "ipython3",
   "version": "3.11.3"
  },
  "vscode": {
   "interpreter": {
    "hash": "26de051ba29f2982a8de78e945f0abaf191376122a1563185a90213a26c5da77"
   }
  }
 },
 "nbformat": 4,
 "nbformat_minor": 2
}
