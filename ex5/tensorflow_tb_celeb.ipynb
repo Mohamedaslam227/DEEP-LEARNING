{
 "cells": [
  {
   "cell_type": "code",
   "execution_count": 10,
   "metadata": {},
   "outputs": [
    {
     "name": "stdout",
     "output_type": "stream",
     "text": [
      "The tensorboard extension is already loaded. To reload it, use:\n",
      "  %reload_ext tensorboard\n"
     ]
    }
   ],
   "source": [
    "%load_ext tensorboard"
   ]
  },
  {
   "cell_type": "code",
   "execution_count": 11,
   "metadata": {},
   "outputs": [],
   "source": [
    "import tensorflow as tf\n",
    "from keras.models import Sequential\n",
    "from keras.layers import Conv2D, MaxPooling2D, Flatten, Dense\n",
    "from keras.callbacks import TensorBoard\n",
    "from keras.utils import image_dataset_from_directory\n",
    "import datetime"
   ]
  },
  {
   "cell_type": "code",
   "execution_count": 12,
   "metadata": {},
   "outputs": [],
   "source": [
    "epochs = 10\n",
    "batch_size = 32\n",
    "img_height = 224\n",
    "img_width = 224"
   ]
  },
  {
   "cell_type": "code",
   "execution_count": 13,
   "metadata": {},
   "outputs": [
    {
     "name": "stdout",
     "output_type": "stream",
     "text": [
      "Found 1800 files belonging to 17 classes.\n"
     ]
    }
   ],
   "source": [
    "data_dir = \"Celebrity Faces Dataset\"\n",
    "\n",
    "dataset = image_dataset_from_directory(\n",
    "    data_dir,\n",
    "    labels='inferred',\n",
    "    label_mode= 'int',\n",
    "    class_names=None,\n",
    "    color_mode='rgb',\n",
    "    batch_size=batch_size,\n",
    "    image_size=(img_height, img_width),\n",
    "    shuffle=True,\n",
    "    interpolation='bilinear',\n",
    ")"
   ]
  },
  {
   "cell_type": "code",
   "execution_count": 14,
   "metadata": {},
   "outputs": [],
   "source": [
    "dataset = dataset.prefetch(buffer_size=tf.data.experimental.AUTOTUNE)\n",
    "# Define the number of classes\n",
    "num_classes = dataset.reduce(0, lambda x, _: x + 1).numpy()"
   ]
  },
  {
   "cell_type": "code",
   "execution_count": 15,
   "metadata": {},
   "outputs": [],
   "source": [
    "model = Sequential([\n",
    "    Conv2D(32, (3, 3), activation='relu', input_shape=(img_width, img_height, 3)),\n",
    "    MaxPooling2D((2, 2)),\n",
    "    Conv2D(64, (3, 3), activation='relu'),\n",
    "    MaxPooling2D((2, 2)),\n",
    "    Conv2D(64, (3, 3), activation='relu'),\n",
    "    MaxPooling2D((2, 2)),\n",
    "    Flatten(),\n",
    "    Dense(64, activation='relu'),\n",
    "    Dense(num_classes, activation='softmax')\n",
    "])"
   ]
  },
  {
   "cell_type": "code",
   "execution_count": 16,
   "metadata": {},
   "outputs": [
    {
     "name": "stdout",
     "output_type": "stream",
     "text": [
      "Epoch 1/10\n",
      "57/57 [==============================] - 24s 404ms/step - loss: 18.0273 - accuracy: 0.0728\n",
      "Epoch 2/10\n",
      "57/57 [==============================] - 24s 426ms/step - loss: 2.5667 - accuracy: 0.2550\n",
      "Epoch 3/10\n",
      "57/57 [==============================] - 23s 399ms/step - loss: 1.7196 - accuracy: 0.4844\n",
      "Epoch 4/10\n",
      "57/57 [==============================] - 25s 438ms/step - loss: 0.8535 - accuracy: 0.7456\n",
      "Epoch 5/10\n",
      "57/57 [==============================] - 25s 444ms/step - loss: 0.3643 - accuracy: 0.8894\n",
      "Epoch 6/10\n",
      "57/57 [==============================] - 26s 453ms/step - loss: 0.2214 - accuracy: 0.9422\n",
      "Epoch 7/10\n",
      "57/57 [==============================] - 24s 411ms/step - loss: 0.1893 - accuracy: 0.9461\n",
      "Epoch 8/10\n",
      "57/57 [==============================] - 23s 404ms/step - loss: 0.1661 - accuracy: 0.9567\n",
      "Epoch 9/10\n",
      "57/57 [==============================] - 26s 451ms/step - loss: 0.1127 - accuracy: 0.9739\n",
      "Epoch 10/10\n",
      "57/57 [==============================] - 26s 447ms/step - loss: 0.0258 - accuracy: 0.9950\n"
     ]
    },
    {
     "data": {
      "text/plain": [
       "<keras.src.callbacks.History at 0x230b3785250>"
      ]
     },
     "execution_count": 16,
     "metadata": {},
     "output_type": "execute_result"
    }
   ],
   "source": [
    "model.compile(optimizer='adam',\n",
    "              loss='sparse_categorical_crossentropy',\n",
    "              metrics=['accuracy'])\n",
    "\n",
    "# Define log directory for TensorBoard\n",
    "log_dir = \"logs/fit/\" + datetime.datetime.now().strftime(\"%Y%m%d-%H%M%S\")\n",
    "\n",
    "# Initialize TensorBoard callback\n",
    "tensorboard_callback = TensorBoard(log_dir=log_dir, histogram_freq=1)\n",
    "\n",
    "# Train the model with TensorBoard callback\n",
    "model.fit(dataset, epochs=epochs, callbacks=[tensorboard_callback])\n"
   ]
  },
  {
   "cell_type": "code",
   "execution_count": null,
   "metadata": {},
   "outputs": [],
   "source": [
    "%tensorboard --logdir logs/fit"
   ]
  },
  {
   "cell_type": "code",
   "execution_count": 1,
   "metadata": {},
   "outputs": [
    {
     "name": "stdout",
     "output_type": "stream",
     "text": [
      "WARNING:tensorflow:From C:\\Users\\21bad059\\AppData\\Roaming\\Python\\Python310\\site-packages\\keras\\src\\losses.py:2976: The name tf.losses.sparse_softmax_cross_entropy is deprecated. Please use tf.compat.v1.losses.sparse_softmax_cross_entropy instead.\n",
      "\n",
      "Found 1440 images belonging to 17 classes.\n",
      "Found 360 images belonging to 17 classes.\n",
      "WARNING:tensorflow:From C:\\Users\\21bad059\\AppData\\Roaming\\Python\\Python310\\site-packages\\keras\\src\\backend.py:873: The name tf.get_default_graph is deprecated. Please use tf.compat.v1.get_default_graph instead.\n",
      "\n",
      "WARNING:tensorflow:From C:\\Users\\21bad059\\AppData\\Roaming\\Python\\Python310\\site-packages\\keras\\src\\layers\\pooling\\max_pooling2d.py:161: The name tf.nn.max_pool is deprecated. Please use tf.nn.max_pool2d instead.\n",
      "\n",
      "WARNING:tensorflow:From C:\\Users\\21bad059\\AppData\\Roaming\\Python\\Python310\\site-packages\\keras\\src\\optimizers\\__init__.py:309: The name tf.train.Optimizer is deprecated. Please use tf.compat.v1.train.Optimizer instead.\n",
      "\n",
      "Epoch 1/10\n",
      "WARNING:tensorflow:From C:\\Users\\21bad059\\AppData\\Roaming\\Python\\Python310\\site-packages\\keras\\src\\utils\\tf_utils.py:492: The name tf.ragged.RaggedTensorValue is deprecated. Please use tf.compat.v1.ragged.RaggedTensorValue instead.\n",
      "\n",
      "WARNING:tensorflow:From C:\\Users\\21bad059\\AppData\\Roaming\\Python\\Python310\\site-packages\\keras\\src\\engine\\base_layer_utils.py:384: The name tf.executing_eagerly_outside_functions is deprecated. Please use tf.compat.v1.executing_eagerly_outside_functions instead.\n",
      "\n",
      "45/45 [==============================] - 19s 340ms/step - loss: 2.8303 - accuracy: 0.1035 - val_loss: 2.8163 - val_accuracy: 0.1136\n",
      "Epoch 2/10\n",
      "45/45 [==============================] - 13s 294ms/step - loss: 2.8092 - accuracy: 0.1118 - val_loss: 2.7858 - val_accuracy: 0.1136\n",
      "Epoch 3/10\n",
      "45/45 [==============================] - 13s 294ms/step - loss: 2.7710 - accuracy: 0.1243 - val_loss: 2.7167 - val_accuracy: 0.1420\n",
      "Epoch 4/10\n",
      "45/45 [==============================] - 14s 317ms/step - loss: 2.7071 - accuracy: 0.1382 - val_loss: 2.6774 - val_accuracy: 0.1335\n",
      "Epoch 5/10\n",
      "45/45 [==============================] - 14s 311ms/step - loss: 2.6410 - accuracy: 0.1604 - val_loss: 2.5759 - val_accuracy: 0.1733\n",
      "Epoch 6/10\n",
      "45/45 [==============================] - 13s 300ms/step - loss: 2.5981 - accuracy: 0.1653 - val_loss: 2.5250 - val_accuracy: 0.1761\n",
      "Epoch 7/10\n",
      "45/45 [==============================] - 13s 289ms/step - loss: 2.5440 - accuracy: 0.1882 - val_loss: 2.5153 - val_accuracy: 0.1903\n",
      "Epoch 8/10\n",
      "45/45 [==============================] - 13s 284ms/step - loss: 2.4857 - accuracy: 0.1799 - val_loss: 2.4389 - val_accuracy: 0.2102\n",
      "Epoch 9/10\n",
      "45/45 [==============================] - 13s 286ms/step - loss: 2.4568 - accuracy: 0.2021 - val_loss: 2.3858 - val_accuracy: 0.2045\n",
      "Epoch 10/10\n",
      "45/45 [==============================] - 13s 288ms/step - loss: 2.4281 - accuracy: 0.1944 - val_loss: 2.3284 - val_accuracy: 0.2074\n",
      "11/11 - 2s - loss: 2.3081 - accuracy: 0.2472 - 2s/epoch - 145ms/step\n",
      "\n",
      "Test Accuracy: 0.24715909361839294\n"
     ]
    }
   ],
   "source": [
    "import tensorflow as tf\n",
    "from keras.preprocessing.image import ImageDataGenerator\n",
    "from keras.models import Sequential\n",
    "from keras.layers import Conv2D, MaxPooling2D, Flatten, Dense\n",
    "from keras.callbacks import TensorBoard\n",
    "import datetime\n",
    "\n",
    "data_dir = 'Celebrity Faces Dataset'\n",
    "\n",
    "img_width, img_height = 128, 128\n",
    "batch_size = 32\n",
    "\n",
    "datagen = ImageDataGenerator(\n",
    "    rescale=1./255,\n",
    "    rotation_range=20,\n",
    "    width_shift_range=0.2,\n",
    "    height_shift_range=0.2,\n",
    "    shear_range=0.2,\n",
    "    zoom_range=0.2,\n",
    "    horizontal_flip=True,\n",
    "    validation_split=0.2\n",
    ")\n",
    "\n",
    "train_generator = datagen.flow_from_directory(\n",
    "    data_dir,\n",
    "    target_size=(img_width, img_height),\n",
    "    batch_size=batch_size,\n",
    "    class_mode='categorical',\n",
    "    subset='training'\n",
    ")\n",
    "\n",
    "validation_generator = datagen.flow_from_directory(\n",
    "    data_dir,\n",
    "    target_size=(img_width, img_height),\n",
    "    batch_size=batch_size,\n",
    "    class_mode='categorical',\n",
    "    subset='validation'\n",
    ")\n",
    "\n",
    "model = Sequential([\n",
    "    Conv2D(32, (3, 3), activation='relu', input_shape=(img_width, img_height, 3)),\n",
    "    MaxPooling2D((2, 2)),\n",
    "    Conv2D(64, (3, 3), activation='relu'),\n",
    "    MaxPooling2D((2, 2)),\n",
    "    Conv2D(64, (3, 3), activation='relu'),\n",
    "    MaxPooling2D((2, 2)),\n",
    "    Flatten(),\n",
    "    Dense(64, activation='relu'),\n",
    "    Dense(len(train_generator.class_indices), activation='softmax')\n",
    "])\n",
    "\n",
    "model.compile(optimizer='adam',\n",
    "              loss='categorical_crossentropy',\n",
    "              metrics=['accuracy'])\n",
    "\n",
    "log_dir = \"logs/fit/\" + datetime.datetime.now().strftime(\"%Y%m%d-%H%M%S\")\n",
    "\n",
    "tensorboard_callback = TensorBoard(log_dir=log_dir, histogram_freq=1)\n",
    "\n",
    "model.fit(train_generator,\n",
    "          steps_per_epoch=train_generator.samples // batch_size,\n",
    "          epochs=10,\n",
    "          validation_data=validation_generator,\n",
    "          validation_steps=validation_generator.samples // batch_size,\n",
    "          callbacks=[tensorboard_callback])\n",
    "\n",
    "test_loss, test_acc = model.evaluate(validation_generator, steps=validation_generator.samples // batch_size, verbose=2)\n",
    "print(\"\\nTest Accuracy:\", test_acc)\n"
   ]
  },
  {
   "cell_type": "code",
   "execution_count": 2,
   "metadata": {},
   "outputs": [
    {
     "name": "stderr",
     "output_type": "stream",
     "text": [
      "UsageError: Line magic function `%tensorboard` not found.\n"
     ]
    }
   ],
   "source": [
    "%tensorboard --logdir logs/fit/"
   ]
  }
 ],
 "metadata": {
  "kernelspec": {
   "display_name": "Python 3",
   "language": "python",
   "name": "python3"
  },
  "language_info": {
   "codemirror_mode": {
    "name": "ipython",
    "version": 3
   },
   "file_extension": ".py",
   "mimetype": "text/x-python",
   "name": "python",
   "nbconvert_exporter": "python",
   "pygments_lexer": "ipython3",
   "version": "3.10.0"
  },
  "vscode": {
   "interpreter": {
    "hash": "26de051ba29f2982a8de78e945f0abaf191376122a1563185a90213a26c5da77"
   }
  }
 },
 "nbformat": 4,
 "nbformat_minor": 2
}
