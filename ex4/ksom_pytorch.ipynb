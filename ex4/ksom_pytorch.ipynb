{
 "cells": [
  {
   "cell_type": "code",
   "execution_count": 16,
   "metadata": {},
   "outputs": [],
   "source": [
    "import os\n",
    "import torch\n",
    "import torch.nn as nn\n",
    "import torch.nn.functional as F\n",
    "from torchvision import transforms\n",
    "from torch.utils.data import DataLoader\n",
    "from torchvision.datasets import ImageFolder\n"
   ]
  },
  {
   "cell_type": "code",
   "execution_count": 17,
   "metadata": {},
   "outputs": [],
   "source": [
    "class KSOM(nn.Module):\n",
    "    def __init__(self, input_size, output_size, sigma=1.0):\n",
    "        super(KSOM, self).__init__()\n",
    "        self.input_size = input_size\n",
    "        self.output_size = output_size\n",
    "        self.sigma = sigma\n",
    "        self.weights = nn.Parameter(torch.randn(output_size, input_size) * 0.01)\n",
    "\n",
    "    def forward(self, x):\n",
    "        dist_to_winner = torch.cdist(x, self.weights)\n",
    "        neighbors = torch.exp(-dist_to_winner / (2 * self.sigma ** 2))\n",
    "        return neighbors\n"
   ]
  },
  {
   "cell_type": "code",
   "execution_count": 18,
   "metadata": {},
   "outputs": [],
   "source": [
    "train_dir = 'car_data/train'\n",
    "test_dir = 'car_data/test'\n",
    "\n",
    "transform = transforms.Compose([\n",
    "    transforms.Resize((224, 224)),\n",
    "    transforms.ToTensor(),\n",
    "    transforms.Normalize(mean=[0.5, 0.5, 0.5], std=[0.5, 0.5, 0.5])\n",
    "])\n"
   ]
  },
  {
   "cell_type": "code",
   "execution_count": 19,
   "metadata": {},
   "outputs": [],
   "source": [
    "train_dataset = ImageFolder(root=train_dir, transform=transform)\n",
    "train_loader = DataLoader(train_dataset, batch_size=64, shuffle=True)\n",
    "\n",
    "test_dataset = ImageFolder(root=test_dir, transform=transform)\n",
    "test_loader = DataLoader(test_dataset, batch_size=64, shuffle=False)\n",
    "\n",
    "input_size = 3 * 224 * 224\n",
    "num_classes = len(train_dataset.classes)\n",
    "output_size = num_classes\n",
    "sigma = 1.0"
   ]
  },
  {
   "cell_type": "code",
   "execution_count": 20,
   "metadata": {},
   "outputs": [
    {
     "name": "stdout",
     "output_type": "stream",
     "text": [
      "Using device: cuda\n"
     ]
    }
   ],
   "source": [
    "device = torch.device(\"cuda\" if torch.cuda.is_available() else \"cpu\")\n",
    "print(\"Using device:\", device)"
   ]
  },
  {
   "cell_type": "code",
   "execution_count": 21,
   "metadata": {},
   "outputs": [],
   "source": [
    "som = KSOM(input_size, output_size, sigma).to(device)\n",
    "\n",
    "epochs = 20\n",
    "lr = 0.1\n",
    "criterion = nn.CrossEntropyLoss()\n",
    "optimizer = torch.optim.SGD(som.parameters(), lr=lr)"
   ]
  },
  {
   "cell_type": "code",
   "execution_count": 22,
   "metadata": {},
   "outputs": [
    {
     "name": "stdout",
     "output_type": "stream",
     "text": [
      "Epoch 1, Loss: 5.278116215020418\n",
      "Epoch 2, Loss: 5.278116215020418\n",
      "Epoch 3, Loss: 5.278116215020418\n",
      "Epoch 4, Loss: 5.278116215020418\n",
      "Epoch 5, Loss: 5.278116215020418\n",
      "Epoch 6, Loss: 5.278116215020418\n",
      "Epoch 7, Loss: 5.278116215020418\n",
      "Epoch 8, Loss: 5.278116215020418\n",
      "Epoch 9, Loss: 5.278116215020418\n",
      "Epoch 10, Loss: 5.278116215020418\n",
      "Epoch 11, Loss: 5.278116215020418\n",
      "Epoch 12, Loss: 5.278116215020418\n",
      "Epoch 13, Loss: 5.278116215020418\n",
      "Epoch 14, Loss: 5.278116215020418\n",
      "Epoch 15, Loss: 5.278116215020418\n",
      "Epoch 16, Loss: 5.278116215020418\n",
      "Epoch 17, Loss: 5.278116215020418\n",
      "Epoch 18, Loss: 5.278116215020418\n",
      "Epoch 19, Loss: 5.278116215020418\n",
      "Epoch 20, Loss: 5.278116215020418\n"
     ]
    }
   ],
   "source": [
    "for epoch in range(epochs):\n",
    "    running_loss = 0.0\n",
    "    for images, labels in train_loader:\n",
    "        images = images.view(-1, input_size).to(device)\n",
    "        labels = labels.to(device)\n",
    "        optimizer.zero_grad()\n",
    "        outputs = som(images)\n",
    "        loss = criterion(outputs, labels)\n",
    "        loss.backward()\n",
    "        optimizer.step()\n",
    "        running_loss += loss.item()\n",
    "    print(f\"Epoch {epoch+1}, Loss: {running_loss/len(train_loader)}\")"
   ]
  },
  {
   "cell_type": "code",
   "execution_count": 24,
   "metadata": {},
   "outputs": [
    {
     "name": "stdout",
     "output_type": "stream",
     "text": [
      "Accuracy: 0.006466857356050243\n"
     ]
    }
   ],
   "source": [
    "correct = 0\n",
    "total = 0\n",
    "\n",
    "with torch.no_grad():\n",
    "    for images, labels in test_loader:\n",
    "        images = images.view(-1, input_size).to(device)\n",
    "        neighbors = som(images)\n",
    "        _, predicted_indices = torch.max(neighbors, 1)\n",
    "        for i in range(len(predicted_indices)):\n",
    "            predicted_cluster = train_dataset.classes[predicted_indices[i].item()]\n",
    "            ground_truth_cluster = train_dataset.classes[labels[i].item()]\n",
    "            if predicted_cluster == ground_truth_cluster:\n",
    "                correct += 1\n",
    "            total += 1\n",
    "\n",
    "accuracy = correct / total\n",
    "print(\"Accuracy:\", accuracy)"
   ]
  }
 ],
 "metadata": {
  "kernelspec": {
   "display_name": "Python 3",
   "language": "python",
   "name": "python3"
  },
  "language_info": {
   "codemirror_mode": {
    "name": "ipython",
    "version": 3
   },
   "file_extension": ".py",
   "mimetype": "text/x-python",
   "name": "python",
   "nbconvert_exporter": "python",
   "pygments_lexer": "ipython3",
   "version": "3.11.3"
  }
 },
 "nbformat": 4,
 "nbformat_minor": 2
}
